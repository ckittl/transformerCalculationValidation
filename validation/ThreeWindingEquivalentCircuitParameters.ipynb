{
 "cells": [
  {
   "cell_type": "markdown",
   "metadata": {
    "collapsed": true,
    "pycharm": {
     "name": "#%% md\n"
    }
   },
   "source": [
    "# Calculate the three winding transformer's equivalent circuit diagram parameters"
   ]
  },
  {
   "cell_type": "code",
   "execution_count": null,
   "metadata": {
    "pycharm": {
     "name": "#%%\n"
    }
   },
   "outputs": [],
   "source": [
    "# Rating of the ports\n",
    "from math import sqrt\n",
    "\n",
    "s_rated_hv_mva = 300.0\n",
    "v_rated_hv_kv = 380.0\n",
    "s_rated_mv_mva = 300.0\n",
    "v_rated_mv_kv = 110.0\n",
    "s_rated_lv_mva = 100.0\n",
    "v_rated_lv_kv = 30.0\n",
    "\n",
    "# Short-circuit results\n",
    "v_k_hv_percent = 17.5\n",
    "v_k_r_hv_percent = 0.15\n",
    "v_k_mv_percent = 18.0\n",
    "v_k_r_mv_percent = 0.12\n",
    "v_k_lv_percent = 15.5\n",
    "v_k_r_lv_percent = 0.09\n",
    "\n",
    "# Open circuit results\n",
    "i_0_percent = 0.25\n",
    "p_fe_kw = 1.875"
   ]
  },
  {
   "cell_type": "code",
   "execution_count": null,
   "metadata": {
    "pycharm": {
     "name": "#%% Calculate equivalent circuit diagram parameters from HV to MV\n"
    }
   },
   "outputs": [],
   "source": [
    "z_nominal_hv_ohm = pow(v_rated_hv_kv * 1e3, 2) / (min(s_rated_hv_mva, s_rated_mv_mva) * 1e6)\n",
    "z_sc_hvmv_ohm = v_k_hv_percent / 100 * z_nominal_hv_ohm\n",
    "r_sc_hvmv_ohm = v_k_r_hv_percent / 100 * z_nominal_hv_ohm\n",
    "x_sc_hvmv_ohm = sqrt(pow(z_sc_hvmv_ohm, 2) - pow(r_sc_hvmv_ohm, 2))"
   ]
  },
  {
   "cell_type": "code",
   "execution_count": null,
   "metadata": {
    "pycharm": {
     "name": "#%% Calculate equivalent circuit diagram parameters from MV to LV\n"
    }
   },
   "outputs": [],
   "source": [
    "turn_ratio = v_rated_hv_kv / v_rated_mv_kv\n",
    "z_nominal_mv_ohm = pow(v_rated_mv_kv * 1e3, 2) / (min(s_rated_mv_mva, s_rated_lv_mva) * 1e6) * pow(turn_ratio, 2)\n",
    "z_sc_mvlv_ohm = v_k_mv_percent / 100 * z_nominal_mv_ohm\n",
    "r_sc_mvlv_ohm = v_k_r_mv_percent / 100 * z_nominal_mv_ohm\n",
    "x_sc_mvlv_ohm = sqrt(pow(z_sc_mvlv_ohm, 2) - pow(r_sc_mvlv_ohm, 2))"
   ]
  },
  {
   "cell_type": "code",
   "execution_count": null,
   "metadata": {
    "pycharm": {
     "name": "#%% Calculate equivalent circuit diagram parameters from HV to LV\n"
    }
   },
   "outputs": [],
   "source": [
    "z_nominal_lv_ohm = pow(v_rated_hv_kv * 1e3, 2) / (min(s_rated_hv_mva, s_rated_lv_mva) * 1e6)\n",
    "z_sc_hvlv_ohm = v_k_lv_percent / 100 * z_nominal_lv_ohm\n",
    "r_sc_hvlv_ohm = v_k_r_lv_percent / 100 * z_nominal_lv_ohm\n",
    "x_sc_hvlv_ohm = sqrt(pow(z_sc_hvlv_ohm, 2) - pow(r_sc_hvlv_ohm, 2))"
   ]
  },
  {
   "cell_type": "code",
   "execution_count": null,
   "metadata": {
    "pycharm": {
     "name": "#%% Calculate resistances per branch\n"
    }
   },
   "outputs": [],
   "source": [
    "r_sc_hv_ohm = 0.5 * (r_sc_hvmv_ohm + r_sc_hvlv_ohm - r_sc_mvlv_ohm)\n",
    "r_sc_mv_ohm = 0.5 * (r_sc_hvmv_ohm - r_sc_hvlv_ohm + r_sc_mvlv_ohm)\n",
    "r_sc_lv_ohm = 0.5 * (-r_sc_hvmv_ohm + r_sc_hvlv_ohm + r_sc_mvlv_ohm)\n",
    "\n",
    "print(\n",
    "    \"Branch resistances:\\n\\thv = %.6f mOhm\\n\\tmv = %.6f mOhm\\n\\tlv = %.6f mOhm\" % (\n",
    "        r_sc_hv_ohm * 1000, r_sc_mv_ohm * 1000, r_sc_lv_ohm * 1000))"
   ]
  },
  {
   "cell_type": "code",
   "execution_count": null,
   "metadata": {
    "pycharm": {
     "name": "#%% Calculate reactances per branch\n"
    }
   },
   "outputs": [],
   "source": [
    "x_sc_hv_ohm = 0.5 * (x_sc_hvmv_ohm + x_sc_hvlv_ohm - x_sc_mvlv_ohm)\n",
    "x_sc_mv_ohm = 0.5 * (x_sc_hvmv_ohm - x_sc_hvlv_ohm + x_sc_mvlv_ohm)\n",
    "x_sc_lv_ohm = 0.5 * (-x_sc_hvmv_ohm + x_sc_hvlv_ohm + x_sc_mvlv_ohm)\n",
    "\n",
    "print(\n",
    "    \"Branch reactances:\\n\\thv = %.6f Ohm\\n\\tmv = %.6f Ohm\\n\\tlv = %.6f Ohm\" % (\n",
    "        x_sc_hv_ohm, x_sc_mv_ohm, x_sc_lv_ohm))"
   ]
  },
  {
   "cell_type": "code",
   "execution_count": null,
   "metadata": {
    "pycharm": {
     "name": "#%% Calculate the main field parameters\n"
    }
   },
   "outputs": [],
   "source": [
    "y_nom_hv_siemens = 1 / z_nominal_hv_ohm\n",
    "y_0_siemens = i_0_percent / 100 * y_nom_hv_siemens\n",
    "y_sc_hv_siemens = 2 / (z_sc_hvmv_ohm + z_sc_hvlv_ohm - z_sc_mvlv_ohm)\n",
    "y_m_siemens = y_0_siemens * y_sc_hv_siemens / (y_sc_hv_siemens - y_0_siemens)\n",
    "print(\"Main field parameters:\\n\\ty_0 = %.6f µS\\n\\ty_m = %.6f µS\" % (y_0_siemens * 1e6, y_m_siemens * 1e6))\n",
    "\n",
    "i_0_r_a = p_fe_kw * 1e3 / sqrt(3) / (v_rated_hv_kv * 1e3)\n",
    "g_m_siemens = 3 * pow(i_0_r_a, 2) / (p_fe_kw * 1e3 - r_sc_hv_ohm * 3 * pow(i_0_r_a, 2))\n",
    "print(\"\\tg_m = %.6f µS\" % (g_m_siemens * 1e6))\n",
    "\n",
    "b_m_siemens = sqrt(pow(y_m_siemens, 2) - pow(g_m_siemens, 2))\n",
    "\n",
    "print(\"\\tb_m = %.6f µS\" % (b_m_siemens * 1e6))"
   ]
  }
 ],
 "metadata": {
  "kernelspec": {
   "display_name": "Python 3",
   "language": "python",
   "name": "python3"
  },
  "language_info": {
   "codemirror_mode": {
    "name": "ipython",
    "version": 3
   },
   "file_extension": ".py",
   "mimetype": "text/x-python",
   "name": "python",
   "nbconvert_exporter": "python",
   "pygments_lexer": "ipython3",
   "version": "3.8.10"
  }
 },
 "nbformat": 4,
 "nbformat_minor": 1
}