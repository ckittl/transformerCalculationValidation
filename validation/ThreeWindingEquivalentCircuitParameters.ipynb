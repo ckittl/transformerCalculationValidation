{
 "cells": [
  {
   "cell_type": "markdown",
   "metadata": {
    "collapsed": true,
    "pycharm": {
     "name": "#%% md\n"
    }
   },
   "source": [
    "# Calculate the three winding transformer's equivalent circuit diagram parameters"
   ]
  },
  {
   "cell_type": "code",
   "execution_count": 94,
   "outputs": [],
   "source": [
    "# Rating of the ports\n",
    "from math import sqrt\n",
    "\n",
    "s_rated_hv_mva = 300.0\n",
    "v_rated_hv_kv = 380.0\n",
    "s_rated_mv_mva = 300.0\n",
    "v_rated_mv_kv = 110.0\n",
    "s_rated_lv_mva = 100.0\n",
    "v_rated_lv_kv = 30.0\n",
    "\n",
    "# Short-circuit results\n",
    "v_k_hv_percent = 17.5\n",
    "v_k_r_hv_percent = 0.15\n",
    "v_k_mv_percent = 18.0\n",
    "v_k_r_mv_percent = 0.12\n",
    "v_k_lv_percent = 15.5\n",
    "v_k_r_lv_percent = 0.09"
   ],
   "metadata": {
    "collapsed": false,
    "pycharm": {
     "name": "#%%\n"
    }
   }
  },
  {
   "cell_type": "code",
   "execution_count": 95,
   "outputs": [],
   "source": [
    "z_nominal_hv_ohm = pow(v_rated_hv_kv * 1e3, 2) / (s_rated_hv_mva * 1e6)\n",
    "z_sc_hvmv_ohm = v_k_hv_percent / 100 * z_nominal_hv_ohm\n",
    "r_sc_hvmv_ohm = v_k_r_hv_percent / 100 * z_nominal_hv_ohm\n",
    "x_sc_hvmv_ohm = sqrt(pow(z_sc_hvmv_ohm, 2) - pow(r_sc_hvmv_ohm, 2))"
   ],
   "metadata": {
    "collapsed": false,
    "pycharm": {
     "name": "#%% Calculate equivalent circuit diagram parameters from HV to MV\n"
    }
   }
  },
  {
   "cell_type": "code",
   "execution_count": 96,
   "outputs": [],
   "source": [
    "turn_ratio = v_rated_hv_kv / v_rated_mv_kv\n",
    "z_nominal_mv_ohm = pow(v_rated_mv_kv * 1e3, 2) / (s_rated_mv_mva * 1e6) * pow(turn_ratio, 2)\n",
    "z_sc_mvlv_ohm = v_k_mv_percent / 100 * z_nominal_mv_ohm\n",
    "r_sc_mvlv_ohm = v_k_r_mv_percent / 100 * z_nominal_mv_ohm\n",
    "x_sc_mvlv_ohm = sqrt(pow(z_sc_mvlv_ohm, 2) - pow(r_sc_mvlv_ohm, 2))"
   ],
   "metadata": {
    "collapsed": false,
    "pycharm": {
     "name": "#%% Calculate equivalent circuit diagram parameters from MV to LV\n"
    }
   }
  },
  {
   "cell_type": "code",
   "execution_count": 97,
   "outputs": [],
   "source": [
    "z_sc_hvlv_ohm = v_k_lv_percent / 100 * z_nominal_hv_ohm\n",
    "r_sc_hvlv_ohm = v_k_r_lv_percent / 100 * z_nominal_hv_ohm\n",
    "x_sc_hvlv_ohm = sqrt(pow(z_sc_hvlv_ohm, 2) - pow(r_sc_hvlv_ohm, 2))"
   ],
   "metadata": {
    "collapsed": false,
    "pycharm": {
     "name": "#%% Calculate equivalent circuit diagram parameters from HV to LV\n"
    }
   }
  },
  {
   "cell_type": "code",
   "execution_count": 98,
   "outputs": [
    {
     "name": "stdout",
     "output_type": "stream",
     "text": [
      "Branch resistances:\n",
      "\thv = 288.800000 mOhm\n",
      "\tmv = 433.200000 mOhm\n",
      "\tlv = 144.400000 mOhm\n"
     ]
    }
   ],
   "source": [
    "r_sc_hv_ohm = 0.5 * (r_sc_hvmv_ohm + r_sc_hvlv_ohm - r_sc_mvlv_ohm)\n",
    "r_sc_mv_ohm = 0.5 * (r_sc_hvmv_ohm - r_sc_hvlv_ohm + r_sc_mvlv_ohm)\n",
    "r_sc_lv_ohm = 0.5 * (-r_sc_hvmv_ohm + r_sc_hvlv_ohm + r_sc_mvlv_ohm)\n",
    "\n",
    "print(\n",
    "    \"Branch resistances:\\n\\thv = %.6f mOhm\\n\\tmv = %.6f mOhm\\n\\tlv = %.6f mOhm\" % (\n",
    "        r_sc_hv_ohm * 1000, r_sc_mv_ohm * 1000, r_sc_lv_ohm * 1000))"
   ],
   "metadata": {
    "collapsed": false,
    "pycharm": {
     "name": "#%% Calculate resistances per branch\n"
    }
   }
  },
  {
   "cell_type": "code",
   "execution_count": 99,
   "outputs": [
    {
     "name": "stdout",
     "output_type": "stream",
     "text": [
      "Branch reactances:\n",
      "\thv = 36.098787 Ohm\n",
      "\tmv = 48.131452 Ohm\n",
      "\tlv = 38.506622 Ohm\n"
     ]
    }
   ],
   "source": [
    "x_sc_hv_ohm = 0.5 * (x_sc_hvmv_ohm + x_sc_hvlv_ohm - x_sc_mvlv_ohm)\n",
    "x_sc_mv_ohm = 0.5 * (x_sc_hvmv_ohm - x_sc_hvlv_ohm + x_sc_mvlv_ohm)\n",
    "x_sc_lv_ohm = 0.5 * (-x_sc_hvmv_ohm + x_sc_hvlv_ohm + x_sc_mvlv_ohm)\n",
    "\n",
    "print(\n",
    "    \"Branch reactances:\\n\\thv = %.6f Ohm\\n\\tmv = %.6f Ohm\\n\\tlv = %.6f Ohm\" % (\n",
    "        x_sc_hv_ohm, x_sc_mv_ohm, x_sc_lv_ohm))"
   ],
   "metadata": {
    "collapsed": false,
    "pycharm": {
     "name": "#%% Calculate reactances per branch\n"
    }
   }
  }
 ],
 "metadata": {
  "kernelspec": {
   "display_name": "Python 3",
   "language": "python",
   "name": "python3"
  },
  "language_info": {
   "codemirror_mode": {
    "name": "ipython",
    "version": 2
   },
   "file_extension": ".py",
   "mimetype": "text/x-python",
   "name": "python",
   "nbconvert_exporter": "python",
   "pygments_lexer": "ipython2",
   "version": "2.7.6"
  }
 },
 "nbformat": 4,
 "nbformat_minor": 0
}