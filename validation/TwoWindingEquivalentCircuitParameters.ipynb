{
 "cells": [
  {
   "cell_type": "markdown",
   "metadata": {
    "collapsed": true,
    "pycharm": {
     "name": "#%% md\n"
    }
   },
   "source": [
    "# Calculate the two winding transformer's equivalent circuit diagram parameters"
   ]
  },
  {
   "cell_type": "code",
   "execution_count": 28,
   "outputs": [],
   "source": [
    "# Rating of the ports\n",
    "from math import sqrt\n",
    "\n",
    "s_rated_mva = 0.63\n",
    "v_rated_hv_kv = 10.0\n",
    "v_rated_lv_kv = 0.4\n",
    "\n",
    "# Short-circuit results\n",
    "v_k_percent = 4.0\n",
    "v_k_r_percent = 1.15873#0.238\n",
    "\n",
    "# Open circuit results\n",
    "i_0_percent = 0.2381\n",
    "p_fe_kw = 0.0"
   ],
   "metadata": {
    "collapsed": false,
    "pycharm": {
     "name": "#%%\n"
    }
   }
  },
  {
   "cell_type": "code",
   "execution_count": 29,
   "outputs": [
    {
     "name": "stdout",
     "output_type": "stream",
     "text": [
      "Branch resistance: r_sc = 1839.253968 mOhm\n",
      " Branch reactance: x_sc = 6076.970142 mOhm\n"
     ]
    }
   ],
   "source": [
    "z_nominal_ohm = pow(v_rated_hv_kv * 1e3, 2) / (s_rated_mva * 1e6)\n",
    "z_sc_ohm = v_k_percent / 100 * z_nominal_ohm\n",
    "r_sc_ohm = v_k_r_percent / 100 * z_nominal_ohm\n",
    "x_sc_ohm = sqrt(pow(z_sc_ohm, 2) - pow(r_sc_ohm, 2))\n",
    "\n",
    "print(\"Branch resistance: r_sc = %.6f mOhm\\n Branch reactance: x_sc = %.6f mOhm\" % (r_sc_ohm * 1000, x_sc_ohm * 1000))"
   ],
   "metadata": {
    "collapsed": false,
    "pycharm": {
     "name": "#%% Calculate equivalent circuit diagram parameters\n"
    }
   }
  },
  {
   "cell_type": "code",
   "execution_count": 30,
   "outputs": [
    {
     "name": "stdout",
     "output_type": "stream",
     "text": [
      "Main field conductance: g_m = -0.000000 nS\n",
      "Main field susceptance: b_m = 15000.300000 nS\n"
     ]
    }
   ],
   "source": [
    "y_nom_siemens = 1 / z_nominal_ohm\n",
    "y_0_siemens = i_0_percent / 100 * y_nom_siemens\n",
    "i_nom_a = s_rated_mva * 1e6 / (sqrt(3) * v_rated_hv_kv * 1e3)\n",
    "i_0_r_a = p_fe_kw * 1e3 / sqrt(3) / (v_rated_hv_kv * 1e3)\n",
    "p_cu_w = r_sc_ohm * 3 * pow(i_nom_a, 2)\n",
    "g_m_siemens = 3 * pow(i_0_r_a, 2) / (p_fe_kw * 1e3 - p_cu_w)\n",
    "b_m_siemens = sqrt(pow(y_0_siemens, 2) - pow(g_m_siemens, 2))\n",
    "print(\"Main field conductance: g_m = %.6f nS\\nMain field susceptance: b_m = %.6f nS\" % (g_m_siemens * 1e9, b_m_siemens * 1e9))"
   ],
   "metadata": {
    "collapsed": false,
    "pycharm": {
     "name": "#%% Calculate the main field parameters\n"
    }
   }
  }
 ],
 "metadata": {
  "kernelspec": {
   "display_name": "Python 3",
   "language": "python",
   "name": "python3"
  },
  "language_info": {
   "codemirror_mode": {
    "name": "ipython",
    "version": 2
   },
   "file_extension": ".py",
   "mimetype": "text/x-python",
   "name": "python",
   "nbconvert_exporter": "python",
   "pygments_lexer": "ipython2",
   "version": "2.7.6"
  }
 },
 "nbformat": 4,
 "nbformat_minor": 0
}