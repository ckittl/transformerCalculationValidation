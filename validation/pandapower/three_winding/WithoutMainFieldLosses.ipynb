{
 "cells": [
  {
   "cell_type": "markdown",
   "metadata": {
    "collapsed": true,
    "pycharm": {
     "name": "#%% md\n"
    }
   },
   "source": [
    "# Power Flow Calculations Without Main Field Losses\n",
    "\n",
    "The test bench consists of three nodes, a three winding transformer and two loads at the medium and low voltage port of\n",
    "the transformer. We sweep through tap positions and active power consumption of the loads, respectively.\n",
    "This is meant to get an insight into the results of the transformer, that are achieved with pandapower.\n",
    "\n",
    "As the power rating of the high voltage port is 300 MVA, that of the medium voltage port 300 MVA as well and 100 MVA for\n",
    "the low voltage port, the following applies:\n",
    "The medium voltage load is varied within the range of +/- 300 MVA.\n",
    "The low voltage load is only varied within the permissible range, that is left.\n",
    "E.g. if the medium voltage load is 250 MVA, ist only is varied from -100 MVA to 50 MVA."
   ]
  },
  {
   "cell_type": "code",
   "execution_count": null,
   "metadata": {
    "pycharm": {
     "name": "#%%\n"
    }
   },
   "outputs": [],
   "source": [
    "# Specify information about persisted entities\n",
    "import json\n",
    "import os\n",
    "\n",
    "from calculation.pandapower.ThreeWindingTestBench import ThreeWindingTestBench\n",
    "from encoder import CustomDecoder\n",
    "from encoder.DictEncoder import DictEncoder\n",
    "\n",
    "result_directory = os.path.join(\"..\", \"..\", \"results\", \"three_winding\")\n",
    "result_file = os.path.join(result_directory, \"withoutMainFieldLosses.json\")\n",
    "\n",
    "# Define basic parameters\n",
    "s_rated_hv_mva: float = 300\n",
    "s_rated_mv_mva: float = 300\n",
    "s_rated_lv_mva: float = 100\n",
    "v_ref_kv: float = 380\n",
    "s_ref_mva: float = 300\n",
    "tap_min: int = -10\n",
    "tap_max: int = 10\n",
    "p_step_size: float = 0.1  # in p.u.\n",
    "\n",
    "if os.path.exists(result_file):\n",
    "    # The result file exists. Read it and use it\n",
    "    print(\"Pre-calculated results are available. Load them.\")\n",
    "    with open(result_file, \"r\") as file_to_read:\n",
    "        json_string = file_to_read.read()\n",
    "        results = json.loads(json_string, object_hook=CustomDecoder.custom_decode)\n",
    "else:\n",
    "    # Result file doesn't exist. Perform simulations and write the file\n",
    "    results: list = ThreeWindingTestBench().calculate(tap_min=tap_min, tap_max=tap_max, s_nom_hv_mva=s_rated_hv_mva,\n",
    "                                                      s_nom_mv_mva=s_rated_mv_mva, s_nom_lv_mva=s_rated_lv_mva,\n",
    "                                                      p_step_pu=p_step_size, v_ref_kv=v_ref_kv, s_ref_mva=s_ref_mva,\n",
    "                                                      tap_at_star_point=False)\n",
    "\n",
    "    if not os.path.exists(result_directory):\n",
    "        os.makedirs(result_directory)\n",
    "    with open(result_file, \"w\") as file_to_write_to:\n",
    "        json.dump(results, file_to_write_to, cls=DictEncoder, indent=2)"
   ]
  },
  {
   "cell_type": "markdown",
   "metadata": {},
   "source": [
    "### Plot the results\n",
    "\n",
    "#### Nodal voltages in neutral tap position"
   ]
  },
  {
   "cell_type": "code",
   "execution_count": null,
   "metadata": {
    "pycharm": {
     "name": "#%%\n"
    }
   },
   "outputs": [],
   "source": [
    "from matplotlib import pyplot as plt\n",
    "import numpy as np\n",
    "\n",
    "# --- Extract all information from results ---\n",
    "p_mv_mw = []  # Power at medium voltage node\n",
    "p_lv_mw = []  # Power at low voltage node\n",
    "v_mv_pu = []  # Voltage magnitude at medium voltage node\n",
    "v_lv_pu = []  # Voltage magnitude at low voltage node\n",
    "p_hv_mw = []  # Active power at high voltage node\n",
    "q_hv_mvar = []  # Reactive power at high voltage node\n",
    "for entry in filter(lambda result: result['tap_pos'] == 0, results):\n",
    "    p_mv_mw.append(entry['p_mv'])\n",
    "    p_lv_mw.append(entry['p_lv'])\n",
    "    v_mv_pu.append(entry['result'].v_mv_pu)\n",
    "    v_lv_pu.append(entry['result'].v_lv_pu)\n",
    "    p_hv_mw.append(entry['result'].p_hv_kw / 1000)\n",
    "    q_hv_mvar.append(entry['result'].q_hv_kvar / 1000)\n",
    "\n",
    "v_min = min(v_mv_pu + v_lv_pu)\n",
    "v_max = max(v_mv_pu + v_lv_pu)\n",
    "print(\"Lowest voltage: %.3f p.u., highest voltage: %.3f p.u.\" % (v_min, v_max))\n",
    "\n",
    "fig_neutral_tap_v = plt.figure(figsize=(25,10))\n",
    "cmap_neutral_tap = plt.get_cmap('hot')\n",
    "ax_neutral_tap_v_mv = fig_neutral_tap_v.add_subplot(1, 2, 1, projection='3d')\n",
    "ax_neutral_tap_v_mv.set_title('Voltage magnitude - medium voltage port')\n",
    "ax_neutral_tap_v_mv.set_xlabel('Active power at medium voltage port in MW')\n",
    "ax_neutral_tap_v_mv.set_ylabel('Active power at low voltage port in MW')\n",
    "ax_neutral_tap_v_mv.set_zlabel('Voltage magnitude at medium voltage port in p.u.')\n",
    "ax_neutral_tap_v_mv.set_zlim(v_min, v_max)\n",
    "ax_neutral_tap_v_mv.plot_trisurf(np.array(p_mv_mw), np.array(p_lv_mw), np.array(v_mv_pu), cmap=cmap_neutral_tap)\n",
    "\n",
    "ax_neutral_tap_v_lv = fig_neutral_tap_v.add_subplot(1, 2, 2, projection='3d')\n",
    "ax_neutral_tap_v_lv.set_title('Voltage magnitude - low voltage port')\n",
    "ax_neutral_tap_v_lv.set_xlabel('Active power at medium voltage port in MW')\n",
    "ax_neutral_tap_v_lv.set_ylabel('Active power at low voltage port in MW')\n",
    "ax_neutral_tap_v_lv.set_zlabel('Voltage magnitude at low voltage port in p.u.')\n",
    "ax_neutral_tap_v_lv.set_zlim(v_min, v_max)\n",
    "ax_neutral_tap_v_lv.plot_trisurf(np.array(p_mv_mw), np.array(p_lv_mw), np.array(v_lv_pu), cmap=cmap_neutral_tap)\n",
    "\n",
    "plt.show()"
   ]
  },
  {
   "cell_type": "markdown",
   "metadata": {
    "pycharm": {
     "name": "#%% md\n"
    }
   },
   "source": [
    "##### Conclusions\n",
    "-   The higher the power consumption, the lower the nodal voltages.\n",
    "-   Power consumption at one port also slightly affects the nodal voltage magnitude at the other port.\n",
    "-   When only varying the power consumption at the low voltage port:\n",
    "    Voltage magnitude at low voltage port varies more than on medium voltage port.\n",
    "    Therefore, Main part of the impedance has to be between star point and low voltage port.\n",
    "-   Same applies for the impedance between star point and medium voltage port.\n",
    "-   Nodal voltage is 1.0 p.u. at both ports for the no-load situation.\n",
    "    This meets expectations for a transformer without main field losses.\n",
    "\n",
    "##### Open questions\n",
    "-   Why isn't the nodal voltage magnitude higher, when feeding in power? Let's have a look at the high voltage port power\n",
    "\n",
    "#### High voltage port power in neutral tap position"
   ]
  },
  {
   "cell_type": "code",
   "execution_count": null,
   "metadata": {
    "pycharm": {
     "name": "#%%\n"
    }
   },
   "outputs": [],
   "source": [
    "fig_neutral_tap_s_hv = plt.figure(figsize=(25,10))\n",
    "ax_neutral_tap_p_hv = fig_neutral_tap_s_hv.add_subplot(1, 2, 1, projection='3d')\n",
    "ax_neutral_tap_p_hv.set_title('Power at high voltage node - Active power')\n",
    "ax_neutral_tap_p_hv.set_xlabel('Active power at medium voltage port in MW')\n",
    "ax_neutral_tap_p_hv.set_ylabel('Active power at low voltage port in MW')\n",
    "ax_neutral_tap_p_hv.set_zlabel('Active power at high voltage node in MW')\n",
    "ax_neutral_tap_p_hv.plot_trisurf(np.array(p_mv_mw), np.array(p_lv_mw), np.array(p_hv_mw), cmap=cmap_neutral_tap)\n",
    "\n",
    "ax_neutral_tap_q_hv = fig_neutral_tap_s_hv.add_subplot(1, 2, 2, projection='3d')\n",
    "ax_neutral_tap_q_hv.set_title('Power at high voltage node - Reactive power')\n",
    "ax_neutral_tap_q_hv.set_xlabel('Active power at medium voltage port in MW')\n",
    "ax_neutral_tap_q_hv.set_ylabel('Active power at low voltage port in MW')\n",
    "ax_neutral_tap_q_hv.set_zlabel('Reactive power at high voltage node in MVAr')\n",
    "ax_neutral_tap_q_hv.plot_trisurf(np.array(p_mv_mw), np.array(p_lv_mw), np.array(q_hv_mvar), cmap=cmap_neutral_tap)"
   ]
  },
  {
   "cell_type": "markdown",
   "metadata": {},
   "source": [
    "##### Conclusions\n",
    "-   Active power seems to sum up as expected, taking resistive losses into account\n",
    "-   Reactive power is purely inductive and increases with total transferred power"
   ]
  }
 ],
 "metadata": {
  "kernelspec": {
   "display_name": "Python 3",
   "language": "python",
   "name": "python3"
  },
  "language_info": {
   "codemirror_mode": {
    "name": "ipython",
    "version": 3
   },
   "file_extension": ".py",
   "mimetype": "text/x-python",
   "name": "python",
   "nbconvert_exporter": "python",
   "pygments_lexer": "ipython3",
   "version": "3.8.5"
  }
 },
 "nbformat": 4,
 "nbformat_minor": 1
}