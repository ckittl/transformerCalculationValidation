{
 "cells": [
  {
   "cell_type": "markdown",
   "metadata": {
    "collapsed": true,
    "pycharm": {
     "name": "#%% md\n"
    }
   },
   "source": [
    "# Power Flow Calculations Without Main Field Losses\n",
    "\n",
    "The test bench consists of three nodes, a three winding transformer and two loads at the medium and low voltage port of\n",
    "the transformer. We sweep through tap positions and active power consumption of the loads, respectively.\n",
    "This is meant to get an insight into the results of the transformer, that are achieved with pandapower.\n",
    "\n",
    "As the power rating of the high voltage port is 300 MVA, that of the medium voltage port 300 MVA as well and 100 MVA for\n",
    "the low voltage port, the following applies:\n",
    "The medium voltage load is varied within the range of +/- 300 MVA.\n",
    "The low voltage load is only varied within the permissible range, that is left.\n",
    "E.g. if the medium voltage load is 250 MVA, ist only is varied from -100 MVA to 50 MVA."
   ]
  },
  {
   "cell_type": "code",
   "execution_count": 1,
   "outputs": [
    {
     "name": "stderr",
     "output_type": "stream",
     "text": [
      "2021-04-19 15:30:12,430,430 root INFO - Starting to calculate grid with pandapower. Parameters: tap = -10...10, reference = 300.00 MVA @ 380.00 kV, tap changer is not at star point\n"
     ]
    }
   ],
   "source": [
    "# Specify information about persisted entities\n",
    "import json\n",
    "import os\n",
    "\n",
    "from calculation.pandapower.ThreeWindingTestBench import ThreeWindingTestBench\n",
    "from encoder import CustomDecoder\n",
    "from encoder.DictEncoder import DictEncoder\n",
    "\n",
    "result_directory = os.path.join(\"..\", \"..\", \"results\", \"three_winding\")\n",
    "result_file = os.path.join(result_directory, \"withoutMainFieldLosses.json\")\n",
    "\n",
    "# Define basic parameters\n",
    "s_rated_hv_mva: float = 300\n",
    "s_rated_mv_mva: float = 300\n",
    "s_rated_lv_mva: float = 100\n",
    "v_ref_kv: float = 380\n",
    "s_ref_mva: float = 300\n",
    "tap_min: int = -10\n",
    "tap_max: int = 10\n",
    "p_step_size: float = 0.1  # in p.u.\n",
    "\n",
    "if os.path.exists(result_file):\n",
    "    # The result file exists. Read it and use it\n",
    "    print(\"Pre-calculated results are available. Load them.\")\n",
    "    with open(result_file, \"r\") as file_to_read:\n",
    "        json_string = file_to_read.read()\n",
    "        results = json.loads(json_string, object_hook=CustomDecoder.custom_decode)\n",
    "else:\n",
    "    # Result file doesn't exist. Perform simulations and write the file\n",
    "    results = ThreeWindingTestBench().calculate(tap_min=tap_min, tap_max=tap_max, s_nom_hv_mva=s_rated_hv_mva,\n",
    "                                                s_nom_mv_mva=s_rated_mv_mva, s_nom_lv_mva=s_rated_lv_mva,\n",
    "                                                p_step_pu=p_step_size, v_ref_kv=v_ref_kv, s_ref_mva=s_ref_mva,\n",
    "                                                tap_at_star_point=False)\n",
    "\n",
    "    if not os.path.exists(result_directory):\n",
    "        os.makedirs(result_directory)\n",
    "    with open(result_file, \"w\") as file_to_write_to:\n",
    "        json.dump(results, file_to_write_to, cls=DictEncoder, indent=2)"
   ],
   "metadata": {
    "collapsed": false,
    "pycharm": {
     "name": "#%%\n"
    }
   }
  }
 ],
 "metadata": {
  "kernelspec": {
   "display_name": "Python 3",
   "language": "python",
   "name": "python3"
  },
  "language_info": {
   "codemirror_mode": {
    "name": "ipython",
    "version": 2
   },
   "file_extension": ".py",
   "mimetype": "text/x-python",
   "name": "python",
   "nbconvert_exporter": "python",
   "pygments_lexer": "ipython2",
   "version": "2.7.6"
  }
 },
 "nbformat": 4,
 "nbformat_minor": 0
}