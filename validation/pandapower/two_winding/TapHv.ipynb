{
 "cells": [
  {
   "cell_type": "markdown",
   "metadata": {
    "collapsed": true,
    "pycharm": {
     "name": "#%% md\n"
    }
   },
   "source": [
    "# Perform power flow calculations with pandapower\n",
    "\n",
    "The test bench consists of two nodes and a transformer of type [SGB Smit DTTH 630 kVA](https://www.sgb-smit.com/fileadmin/user_upload/Downloads/Broschueren/Cast_Resin_Transformers/GT_Technik_UniQ_D.pdf)\n",
    "with an artificial tap changer (+/- 10 tap positions with 2.5 % per step) at the transformer's high voltage side.\n",
    "\n",
    "Sweep through all tap positions as well as active power consumptions and examine the results.\n",
    "The active power is varied within -400 kW to 400 kW.\n",
    "As transformer model, the commonly used pi equivalent circuit is used.\n",
    "\n",
    "### Perform power flow calculations"
   ]
  },
  {
   "cell_type": "code",
   "execution_count": null,
   "outputs": [],
   "source": [
    "import json\n",
    "import os\n",
    "\n",
    "from calculation.pandapower.TestGrid import TapSide, TransformerModel\n",
    "from calculation.pandapower.TwoWindingTestBench import TwoWindingTestBench\n",
    "from encoder import CustomDecoder\n",
    "from encoder.DictEncoder import DictEncoder\n",
    "\n",
    "# Specify information about persisted entities\n",
    "result_directory = os.path.join(\"..\", \"..\", \"results/two_winding\")\n",
    "result_file = os.path.join(result_directory, \"tapHv.json\")\n",
    "\n",
    "# Define parameters\n",
    "tap_min = -10\n",
    "tap_max = 10\n",
    "p_min = -1.0\n",
    "p_max = 1.0\n",
    "p_step_size = 0.1\n",
    "\n",
    "if os.path.exists(result_file):\n",
    "    # The result file exists. Read it and use it\n",
    "    print(\"Pre-calculated results are available. Load them.\")\n",
    "    with open(result_file, \"r\") as file_to_read:\n",
    "        json_string = file_to_read.read()\n",
    "        results = json.loads(json_string, object_hook=CustomDecoder.custom_decode)\n",
    "else:\n",
    "    # Result file doesn't exist. Perform simulations and write the file\n",
    "    print(\"Pre-calculated results are not available. Perform simulations.\")\n",
    "\n",
    "    # Set up the test bench\n",
    "    test_bench = TwoWindingTestBench()\n",
    "\n",
    "    # Perform calculations and get results\n",
    "    results = test_bench.calculate(tap_min=tap_min, tap_max=tap_max, p_min=p_min, p_max=p_max, p_nom_mw=0.4,\n",
    "                                   p_step_size=p_step_size, v_ref_kv=0.4,\n",
    "                                   s_ref_mva=0.4, tap_side=TapSide.HV, transformer_model=TransformerModel.PI)\n",
    "\n",
    "    if not os.path.exists(result_directory):\n",
    "        os.makedirs(result_directory)\n",
    "    with open(result_file, \"w\") as file_to_write_to:\n",
    "        json.dump(results, file_to_write_to, cls=DictEncoder, indent=2)"
   ],
   "metadata": {
    "collapsed": false,
    "pycharm": {
     "name": "#%%\n"
    }
   }
  },
  {
   "cell_type": "markdown",
   "source": [
    "### Plot the results"
   ],
   "metadata": {
    "collapsed": false,
    "pycharm": {
     "name": "#%% md\n"
    }
   }
  },
  {
   "cell_type": "code",
   "execution_count": null,
   "outputs": [],
   "source": [
    "import matplotlib.pyplot as plt\n",
    "import numpy as np\n",
    "\n",
    "# Plot the tap dependent nodal voltage for a fully loaded transformer\n",
    "tap_range = range(tap_min, tap_max + 1)\n",
    "fig_tap_voltage_full, ax_tap_voltage_full = plt.subplots()\n",
    "ord_tap_voltage_full = []\n",
    "for tap_pos in tap_range:\n",
    "    ord_tap_voltage_full = ord_tap_voltage_full + list(map(lambda tpl: tpl['result'].v_pu,\n",
    "                                                           filter(lambda value: abs(value['p'] - p_max) < 1E-9,\n",
    "                                                                  results[str(tap_pos)])))\n",
    "ax_tap_voltage_full.plot(np.array(tap_range), np.array(ord_tap_voltage_full))\n",
    "ax_tap_voltage_full.grid()\n",
    "ax_tap_voltage_full.set(xlabel='Tap position', ylabel='Nodal voltage [p.u.]',\n",
    "                        title='Tap dependent voltage magnitude at LV node')\n",
    "\n",
    "# Define abscissa range (active power)\n",
    "p_range = np.arange(p_min, p_max + p_step_size, p_step_size)\n",
    "# Plot the tap dependent voltage for each tap position\n",
    "fig_tap_voltage, ax = plt.subplots()\n",
    "for tap_pos in tap_range:\n",
    "    # Extract all voltage magnitudes from results\n",
    "    v = list(map(lambda value: value['result'].v_pu, results[str(tap_pos)]))\n",
    "    y = np.array(v)\n",
    "    ax.plot(p_range, y, label=str(tap_pos))\n",
    "\n",
    "ax.set(xlabel='Power', ylabel='Voltage [p.u.]',\n",
    "       title='Tap dependent nodal voltage')\n",
    "ax.grid()\n",
    "ax.legend(loc=(1.05, 0))\n",
    "\n",
    "# Plot the tap dependent port currents\n",
    "fig_tap_current, (ax_tap_current_hv, ax_tap_current_lv) = plt.subplots(1, 2)\n",
    "for tap_pos in [-10, -5, 0, 5, 10]:\n",
    "    # Extract port currents from results\n",
    "    i_hv = list(map(lambda value: value['result'].i_mag_hv_a if value['result'].i_ang_hv_degree > 90.0 or value[\n",
    "        'result'].i_ang_hv_degree < -90.0 else -value['result'].i_mag_hv_a, results[str(tap_pos)]))\n",
    "    i_lv = list(map(lambda value: value['result'].i_mag_lv_a if value['result'].i_ang_lv_degree > 90.0 or value[\n",
    "        'result'].i_ang_lv_degree < -90.0 else -value['result'].i_mag_lv_a, results[str(tap_pos)]))\n",
    "    ax_tap_current_hv.plot(p_range, np.array(i_hv))\n",
    "    ax_tap_current_lv.plot(p_range, np.array(i_lv), label=str(tap_pos))\n",
    "\n",
    "ax_tap_current_hv.set(xlabel='Power', ylabel='Current [A]',\n",
    "                      title='Tap dependent current at HV node')\n",
    "ax_tap_current_hv.grid()\n",
    "ax_tap_current_lv.set(xlabel='Power', ylabel='Current [A]',\n",
    "                      title='Tap dependent current at LV node')\n",
    "ax_tap_current_lv.grid()\n",
    "ax_tap_current_lv.legend(loc=(1.05, 0))\n",
    "\n",
    "# Plot the voltage dependent port current at low voltage node\n",
    "fig_voltage_current, ax_voltage_current = plt.subplots()\n",
    "abscissa = []\n",
    "ordinate = []\n",
    "for tap_pos in tap_range:\n",
    "    relevant_result = map(lambda tpl: tpl['result'],\n",
    "                          filter(lambda value: abs(value['p'] - p_max) < 1E-9, results[str(tap_pos)]))\n",
    "    for result in relevant_result:\n",
    "        abscissa.append(result.v_pu)\n",
    "        ordinate.append(result.i_mag_lv_a)\n",
    "ax_voltage_current.plot(np.array(abscissa), np.array(ordinate))\n",
    "ax_voltage_current.grid()\n",
    "ax_voltage_current.set(xlabel='Nodal Voltage [p.u.]', ylabel='Current [A]',\n",
    "                       title='Voltage dependent current at LV node')\n",
    "\n",
    "plt.show()"
   ],
   "metadata": {
    "collapsed": false,
    "pycharm": {
     "name": "#%%\n"
    }
   }
  },
  {
   "cell_type": "markdown",
   "source": [
    "### Observations and conclusions\n",
    "-   The low voltage magnitude decreases hyperbolically with increasing tap position: This meets my expectations\n",
    "-   The low voltage magnitude decreases with increasing power consumption: This meets my expectations\n",
    "-   The port current at the high voltage node is linear in increased power\n",
    "    -   As the upper port voltage is fixed, this meets the expectations\n",
    "-   The port current at the high voltage node is independent of the tap position\n",
    "    -   As the upper port voltage is fixed, the same power needs the same current, irrespective of the tap position\n",
    "-   The port currents on both signs have inverse signs. This meets my expectations\n",
    "-   The smaller the lower voltage side's voltage magnitude, the higher the current\n",
    "    -   This meets my expectations\n",
    "    -   It exhibits a nearly quadratic dependency (by eye) with the voltage magnitude"
   ],
   "metadata": {
    "collapsed": false,
    "pycharm": {
     "name": "#%% md\n"
    }
   }
  }
 ],
 "metadata": {
  "kernelspec": {
   "display_name": "Python 3",
   "language": "python",
   "name": "python3"
  },
  "language_info": {
   "codemirror_mode": {
    "name": "ipython",
    "version": 2
   },
   "file_extension": ".py",
   "mimetype": "text/x-python",
   "name": "python",
   "nbconvert_exporter": "python",
   "pygments_lexer": "ipython2",
   "version": "2.7.6"
  }
 },
 "nbformat": 4,
 "nbformat_minor": 0
}